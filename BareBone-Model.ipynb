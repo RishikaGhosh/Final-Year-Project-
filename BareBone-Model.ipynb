{
  "nbformat": 4,
  "nbformat_minor": 0,
  "metadata": {
    "colab": {
      "provenance": []
    },
    "kernelspec": {
      "name": "python3",
      "display_name": "Python 3"
    },
    "language_info": {
      "name": "python"
    },
    "accelerator": "GPU",
    "gpuClass": "standard"
  },
  "cells": [
    {
      "cell_type": "code",
      "execution_count": 1,
      "metadata": {
        "id": "oEl7aUp94w3_",
        "colab": {
          "base_uri": "https://localhost:8080/"
        },
        "outputId": "d0ec6a2c-0ecb-4171-d8e8-4a39c8dd13e7"
      },
      "outputs": [
        {
          "output_type": "stream",
          "name": "stdout",
          "text": [
            "Mounted at /content/drive\n"
          ]
        }
      ],
      "source": [
        "from google.colab import drive\n",
        "drive.mount('/content/drive')"
      ]
    },
    {
      "cell_type": "code",
      "source": [
        "!unzip drive/MyDrive/cmaterDB_dataset.zip> /dev/null"
      ],
      "metadata": {
        "id": "h1elc98h5_ck"
      },
      "execution_count": 2,
      "outputs": []
    },
    {
      "cell_type": "code",
      "source": [
        "from keras.models import Sequential\n",
        "from keras.layers import Conv2D, MaxPooling2D, Flatten, Dense, Dropout\n",
        "import tensorflow as tf\n",
        "from tensorflow.keras.callbacks import EarlyStopping\n",
        "from tensorflow.keras.optimizers import Adam\n",
        "from sklearn.pipeline import Pipeline\n",
        "from sklearn.svm import SVC\n",
        "from sklearn.decomposition import PCA\n",
        "import os\n",
        "import cv2\n",
        "from PIL import ImageFile,Image\n",
        "import numpy as np"
      ],
      "metadata": {
        "id": "KvI6BCXx6bKo"
      },
      "execution_count": 4,
      "outputs": []
    },
    {
      "cell_type": "code",
      "source": [
        "train_folder = \"Dataset/Train\" \n",
        "test_folder = \"Dataset/Test\"\n",
        "dimensions = (28, 28)"
      ],
      "metadata": {
        "id": "Tv4NRUg4ihiC"
      },
      "execution_count": 5,
      "outputs": []
    },
    {
      "cell_type": "code",
      "source": [
        "def process_images(folder):\n",
        "\n",
        "    classes = [os.path.join(folder, d) for d in sorted(os.listdir(folder))]  # get list of all sub-folders in folder\n",
        "    img_cnt = 0\n",
        "    i=0\n",
        "    for class_x in classes:\n",
        "        i=i+1\n",
        "        if os.path.isdir(class_x):\n",
        "\n",
        "            # get paths to all the images in this folder\n",
        "            images = [os.path.join(class_x, i) for i in sorted(os.listdir(class_x)) if i != '.DS_Store']\n",
        "            print(len(images))\n",
        "            if folder == \"Dataset/Test\" and i==1:\n",
        "                images = images[:-1]\n",
        "\n",
        "            for image in images:\n",
        "\n",
        "                img_cnt = img_cnt + 1\n",
        "\n",
        "                if(img_cnt % 1000 == 0):                # show progress\n",
        "                    print(\"Processed %s images\" % str(img_cnt))\n",
        "\n",
        "                im = Image.open(image)\n",
        "                print(image)\n",
        "                im = im.resize(dimensions)   # resize image according to dimensions set\n",
        "\n",
        "                im = im.convert('L')\n",
        "\n",
        "                image_array = np.array(im)\n",
        "                otsu_threshold, image_result = cv2.threshold(image_array, 0, 255, cv2.THRESH_BINARY_INV+cv2.THRESH_OTSU)\n",
        "                im = Image.fromarray(image_result)\n",
        "\n",
        "                im.save(image)\n",
        "    print(\"Finished processing images, images found = \")\n",
        "    print(img_cnt)\n",
        "process_images(train_folder)\n",
        "process_images(test_folder)"
      ],
      "metadata": {
        "id": "lQLb3ZKjihfw"
      },
      "execution_count": null,
      "outputs": []
    },
    {
      "cell_type": "code",
      "source": [
        "train_folder = \"Dataset/main/train\" \n",
        "test_folder = \"Dataset/main/val\"\n",
        "dimensions = (28, 28)"
      ],
      "metadata": {
        "id": "eMr9eNLCihdJ"
      },
      "execution_count": 7,
      "outputs": []
    },
    {
      "cell_type": "code",
      "source": [
        "def process_images(folder):\n",
        "\n",
        "    classes = [os.path.join(folder, d) for d in sorted(os.listdir(folder))]  # get list of all sub-folders in folder\n",
        "    img_cnt = 0\n",
        "    i=0\n",
        "    for class_x in classes:\n",
        "        i=i+1\n",
        "        if os.path.isdir(class_x):\n",
        "\n",
        "            # get paths to all the images in this folder\n",
        "            images = [os.path.join(class_x, i) for i in sorted(os.listdir(class_x)) if i != '.DS_Store']\n",
        "            print(len(images))\n",
        "            if folder == \"Dataset/Test\" and i==1:\n",
        "                images = images[:-1]\n",
        "\n",
        "            for image in images:\n",
        "\n",
        "                img_cnt = img_cnt + 1\n",
        "\n",
        "                if(img_cnt % 1000 == 0):                # show progress\n",
        "                    print(\"Processed %s images\" % str(img_cnt))\n",
        "\n",
        "                im = Image.open(image)\n",
        "                print(image)\n",
        "                im = im.resize(dimensions)   # resize image according to dimensions set\n",
        "\n",
        "                im = im.convert('L')\n",
        "\n",
        "                image_array = np.array(im)\n",
        "                otsu_threshold, image_result = cv2.threshold(image_array, 0, 255, cv2.THRESH_BINARY_INV+cv2.THRESH_OTSU)\n",
        "                im = Image.fromarray(image_result)\n",
        "\n",
        "                im.save(image)\n",
        "    print(\"Finished processing images, images found = \")\n",
        "    print(img_cnt)\n",
        "process_images(train_folder)\n",
        "process_images(test_folder)"
      ],
      "metadata": {
        "id": "NHLB5X6WihZ9"
      },
      "execution_count": null,
      "outputs": []
    },
    {
      "cell_type": "code",
      "source": [
        "classifier = Sequential()\n",
        "\n",
        "classifier.add(Conv2D(filters = 32, kernel_size = (3, 3), strides = (1,1), padding = \"same\", activation = 'relu', input_shape = (28, 28, 1)))\n",
        "classifier.add(MaxPooling2D(pool_size = (2, 2), padding = \"valid\"))\n",
        "# classifier.add(Dropout(.2))\n",
        "\n",
        "classifier.add(Conv2D(filters = 64, kernel_size = (3, 3), strides = (1,1), padding = \"same\", activation = 'relu'))\n",
        "classifier.add(MaxPooling2D(pool_size = (2, 2), padding = \"valid\"))\n",
        "# classifier.add(Dropout(.2))\n",
        "\n",
        "classifier.add(Conv2D(filters = 128, kernel_size = (3, 3), strides = (1,1), padding = \"same\", activation = 'relu'))\n",
        "classifier.add(MaxPooling2D(pool_size = (2, 2), padding = \"valid\"))\n",
        "# classifier.add(Dropout(.2))\n",
        "\n",
        "classifier.add(Flatten())\n",
        "\n",
        "classifier.add(Dense(units = 128, activation = 'relu'))\n",
        "# classifier.add(Dropout(.2))\n",
        "\n",
        "classifier.add(Dense(units = 64, activation = 'relu'))\n",
        "# classifier.add(Dropout(.2))\n",
        "\n",
        "classifier.add(Dense(units = 50, activation = 'softmax'))\n",
        "\n",
        "classifier.compile(optimizer = 'adam', loss = 'categorical_crossentropy', metrics = ['accuracy'])"
      ],
      "metadata": {
        "id": "Rjy9ib4X7KXY"
      },
      "execution_count": 15,
      "outputs": []
    },
    {
      "cell_type": "code",
      "source": [
        "classifier.summary()"
      ],
      "metadata": {
        "colab": {
          "base_uri": "https://localhost:8080/"
        },
        "id": "5bibs1YW7hgC",
        "outputId": "baceb105-0ece-41bf-8531-3e37803c0f87"
      },
      "execution_count": 16,
      "outputs": [
        {
          "output_type": "stream",
          "name": "stdout",
          "text": [
            "Model: \"sequential_1\"\n",
            "_________________________________________________________________\n",
            " Layer (type)                Output Shape              Param #   \n",
            "=================================================================\n",
            " conv2d_3 (Conv2D)           (None, 28, 28, 32)        320       \n",
            "                                                                 \n",
            " max_pooling2d_3 (MaxPooling  (None, 14, 14, 32)       0         \n",
            " 2D)                                                             \n",
            "                                                                 \n",
            " conv2d_4 (Conv2D)           (None, 14, 14, 64)        18496     \n",
            "                                                                 \n",
            " max_pooling2d_4 (MaxPooling  (None, 7, 7, 64)         0         \n",
            " 2D)                                                             \n",
            "                                                                 \n",
            " conv2d_5 (Conv2D)           (None, 7, 7, 128)         73856     \n",
            "                                                                 \n",
            " max_pooling2d_5 (MaxPooling  (None, 3, 3, 128)        0         \n",
            " 2D)                                                             \n",
            "                                                                 \n",
            " flatten_1 (Flatten)         (None, 1152)              0         \n",
            "                                                                 \n",
            " dense_3 (Dense)             (None, 128)               147584    \n",
            "                                                                 \n",
            " dense_4 (Dense)             (None, 64)                8256      \n",
            "                                                                 \n",
            " dense_5 (Dense)             (None, 50)                3250      \n",
            "                                                                 \n",
            "=================================================================\n",
            "Total params: 251,762\n",
            "Trainable params: 251,762\n",
            "Non-trainable params: 0\n",
            "_________________________________________________________________\n"
          ]
        }
      ]
    },
    {
      "cell_type": "code",
      "source": [
        "train_folder = \"Dataset/main/train\"\n",
        "val_folder = \"Dataset/main/val\"\n",
        "test_folder = \"Dataset/Test\""
      ],
      "metadata": {
        "id": "edzAI9fn7mfV"
      },
      "execution_count": 11,
      "outputs": []
    },
    {
      "cell_type": "code",
      "source": [
        "from keras.preprocessing.image import ImageDataGenerator\n",
        "from PIL import Image"
      ],
      "metadata": {
        "id": "AtQMWTgL71l4"
      },
      "execution_count": 12,
      "outputs": []
    },
    {
      "cell_type": "code",
      "source": [
        "Image.LOAD_TRUNCATED_IMAGES = True\n",
        "\n",
        "\n",
        "train_datagen = ImageDataGenerator(shear_range = .2, rotation_range = 25)\n",
        "val_datagen = ImageDataGenerator()\n",
        "test_datagen = ImageDataGenerator()\n",
        "\n",
        "train_set = train_datagen.flow_from_directory(train_folder, target_size = (28, 28), \n",
        "                                                 batch_size = 32, class_mode = 'categorical',color_mode=\"grayscale\")\n",
        "val_set = val_datagen.flow_from_directory(val_folder, target_size = (28, 28), \n",
        "                                                 batch_size = 32, class_mode = 'categorical',color_mode=\"grayscale\")\n",
        "test_set = test_datagen.flow_from_directory(test_folder, target_size = (28, 28), \n",
        "                                                 batch_size = 32, class_mode = 'categorical',color_mode=\"grayscale\")"
      ],
      "metadata": {
        "colab": {
          "base_uri": "https://localhost:8080/"
        },
        "id": "5Z2jApCm79sX",
        "outputId": "511522e8-59b9-464b-a11f-15cf3adce898"
      },
      "execution_count": 13,
      "outputs": [
        {
          "output_type": "stream",
          "name": "stdout",
          "text": [
            "Found 10800 images belonging to 50 classes.\n",
            "Found 1200 images belonging to 50 classes.\n",
            "Found 3000 images belonging to 50 classes.\n"
          ]
        }
      ]
    },
    {
      "cell_type": "code",
      "source": [
        "history = classifier.fit(train_set, steps_per_epoch = len(train_set), epochs = 50,\n",
        "                        validation_data = val_set, validation_steps = len(val_set))"
      ],
      "metadata": {
        "colab": {
          "base_uri": "https://localhost:8080/"
        },
        "id": "Q-gw3Z_y8GWN",
        "outputId": "037f878e-0998-4fe3-b59d-99a84538912a"
      },
      "execution_count": 17,
      "outputs": [
        {
          "output_type": "stream",
          "name": "stdout",
          "text": [
            "Epoch 1/50\n",
            "338/338 [==============================] - 12s 29ms/step - loss: 3.8579 - accuracy: 0.0837 - val_loss: 2.7121 - val_accuracy: 0.2883\n",
            "Epoch 2/50\n",
            "338/338 [==============================] - 9s 26ms/step - loss: 1.8310 - accuracy: 0.4669 - val_loss: 1.1716 - val_accuracy: 0.6675\n",
            "Epoch 3/50\n",
            "338/338 [==============================] - 9s 26ms/step - loss: 1.0298 - accuracy: 0.6866 - val_loss: 0.7247 - val_accuracy: 0.7950\n",
            "Epoch 4/50\n",
            "338/338 [==============================] - 10s 29ms/step - loss: 0.7212 - accuracy: 0.7775 - val_loss: 0.6403 - val_accuracy: 0.8233\n",
            "Epoch 5/50\n",
            "338/338 [==============================] - 10s 28ms/step - loss: 0.5485 - accuracy: 0.8263 - val_loss: 0.5396 - val_accuracy: 0.8500\n",
            "Epoch 6/50\n",
            "338/338 [==============================] - 8s 24ms/step - loss: 0.4747 - accuracy: 0.8494 - val_loss: 0.4763 - val_accuracy: 0.8642\n",
            "Epoch 7/50\n",
            "338/338 [==============================] - 10s 28ms/step - loss: 0.3871 - accuracy: 0.8770 - val_loss: 0.5191 - val_accuracy: 0.8617\n",
            "Epoch 8/50\n",
            "338/338 [==============================] - 9s 28ms/step - loss: 0.3689 - accuracy: 0.8806 - val_loss: 0.4459 - val_accuracy: 0.8717\n",
            "Epoch 9/50\n",
            "338/338 [==============================] - 8s 24ms/step - loss: 0.3091 - accuracy: 0.9042 - val_loss: 0.4657 - val_accuracy: 0.8892\n",
            "Epoch 10/50\n",
            "338/338 [==============================] - 10s 29ms/step - loss: 0.2761 - accuracy: 0.9081 - val_loss: 0.4424 - val_accuracy: 0.8883\n",
            "Epoch 11/50\n",
            "338/338 [==============================] - 9s 27ms/step - loss: 0.2673 - accuracy: 0.9161 - val_loss: 0.4796 - val_accuracy: 0.8808\n",
            "Epoch 12/50\n",
            "338/338 [==============================] - 8s 25ms/step - loss: 0.2428 - accuracy: 0.9215 - val_loss: 0.3981 - val_accuracy: 0.8975\n",
            "Epoch 13/50\n",
            "338/338 [==============================] - 10s 29ms/step - loss: 0.2158 - accuracy: 0.9320 - val_loss: 0.4540 - val_accuracy: 0.8883\n",
            "Epoch 14/50\n",
            "338/338 [==============================] - 9s 25ms/step - loss: 0.2038 - accuracy: 0.9324 - val_loss: 0.4521 - val_accuracy: 0.9042\n",
            "Epoch 15/50\n",
            "338/338 [==============================] - 9s 26ms/step - loss: 0.2088 - accuracy: 0.9296 - val_loss: 0.3777 - val_accuracy: 0.8950\n",
            "Epoch 16/50\n",
            "338/338 [==============================] - 10s 29ms/step - loss: 0.2059 - accuracy: 0.9313 - val_loss: 0.4391 - val_accuracy: 0.8950\n",
            "Epoch 17/50\n",
            "338/338 [==============================] - 10s 28ms/step - loss: 0.1909 - accuracy: 0.9352 - val_loss: 0.4508 - val_accuracy: 0.8967\n",
            "Epoch 18/50\n",
            "338/338 [==============================] - 8s 24ms/step - loss: 0.1743 - accuracy: 0.9431 - val_loss: 0.4488 - val_accuracy: 0.9108\n",
            "Epoch 19/50\n",
            "338/338 [==============================] - 11s 33ms/step - loss: 0.1773 - accuracy: 0.9412 - val_loss: 0.4512 - val_accuracy: 0.8967\n",
            "Epoch 20/50\n",
            "338/338 [==============================] - 10s 28ms/step - loss: 0.1580 - accuracy: 0.9488 - val_loss: 0.4193 - val_accuracy: 0.9100\n",
            "Epoch 21/50\n",
            "338/338 [==============================] - 8s 23ms/step - loss: 0.1608 - accuracy: 0.9488 - val_loss: 0.4514 - val_accuracy: 0.9025\n",
            "Epoch 22/50\n",
            "338/338 [==============================] - 9s 25ms/step - loss: 0.1458 - accuracy: 0.9530 - val_loss: 0.4555 - val_accuracy: 0.8942\n",
            "Epoch 23/50\n",
            "338/338 [==============================] - 10s 29ms/step - loss: 0.1325 - accuracy: 0.9576 - val_loss: 0.5203 - val_accuracy: 0.9017\n",
            "Epoch 24/50\n",
            "338/338 [==============================] - 9s 27ms/step - loss: 0.1474 - accuracy: 0.9491 - val_loss: 0.5407 - val_accuracy: 0.9000\n",
            "Epoch 25/50\n",
            "338/338 [==============================] - 8s 24ms/step - loss: 0.1427 - accuracy: 0.9531 - val_loss: 0.4113 - val_accuracy: 0.9108\n",
            "Epoch 26/50\n",
            "338/338 [==============================] - 10s 29ms/step - loss: 0.1338 - accuracy: 0.9581 - val_loss: 0.5273 - val_accuracy: 0.9058\n",
            "Epoch 27/50\n",
            "338/338 [==============================] - 10s 28ms/step - loss: 0.1383 - accuracy: 0.9562 - val_loss: 0.4713 - val_accuracy: 0.9125\n",
            "Epoch 28/50\n",
            "338/338 [==============================] - 8s 24ms/step - loss: 0.1197 - accuracy: 0.9624 - val_loss: 0.4477 - val_accuracy: 0.9083\n",
            "Epoch 29/50\n",
            "338/338 [==============================] - 9s 27ms/step - loss: 0.1380 - accuracy: 0.9566 - val_loss: 0.3963 - val_accuracy: 0.9200\n",
            "Epoch 30/50\n",
            "338/338 [==============================] - 10s 28ms/step - loss: 0.1300 - accuracy: 0.9592 - val_loss: 0.4613 - val_accuracy: 0.9167\n",
            "Epoch 31/50\n",
            "338/338 [==============================] - 8s 23ms/step - loss: 0.1106 - accuracy: 0.9647 - val_loss: 0.4850 - val_accuracy: 0.9092\n",
            "Epoch 32/50\n",
            "338/338 [==============================] - 8s 24ms/step - loss: 0.1353 - accuracy: 0.9580 - val_loss: 0.5918 - val_accuracy: 0.8883\n",
            "Epoch 33/50\n",
            "338/338 [==============================] - 10s 29ms/step - loss: 0.1118 - accuracy: 0.9638 - val_loss: 0.4286 - val_accuracy: 0.9133\n",
            "Epoch 34/50\n",
            "338/338 [==============================] - 10s 29ms/step - loss: 0.1135 - accuracy: 0.9646 - val_loss: 0.4516 - val_accuracy: 0.9100\n",
            "Epoch 35/50\n",
            "338/338 [==============================] - 8s 24ms/step - loss: 0.1071 - accuracy: 0.9669 - val_loss: 0.4974 - val_accuracy: 0.9108\n",
            "Epoch 36/50\n",
            "338/338 [==============================] - 9s 28ms/step - loss: 0.1252 - accuracy: 0.9607 - val_loss: 0.5011 - val_accuracy: 0.9067\n",
            "Epoch 37/50\n",
            "338/338 [==============================] - 10s 30ms/step - loss: 0.1045 - accuracy: 0.9661 - val_loss: 0.5203 - val_accuracy: 0.9142\n",
            "Epoch 38/50\n",
            "338/338 [==============================] - 8s 24ms/step - loss: 0.1034 - accuracy: 0.9684 - val_loss: 0.4810 - val_accuracy: 0.9242\n",
            "Epoch 39/50\n",
            "338/338 [==============================] - 10s 28ms/step - loss: 0.1082 - accuracy: 0.9655 - val_loss: 0.5728 - val_accuracy: 0.9017\n",
            "Epoch 40/50\n",
            "338/338 [==============================] - 10s 28ms/step - loss: 0.1205 - accuracy: 0.9627 - val_loss: 0.4798 - val_accuracy: 0.9225\n",
            "Epoch 41/50\n",
            "338/338 [==============================] - 8s 23ms/step - loss: 0.0916 - accuracy: 0.9706 - val_loss: 0.5089 - val_accuracy: 0.9292\n",
            "Epoch 42/50\n",
            "338/338 [==============================] - 10s 29ms/step - loss: 0.0831 - accuracy: 0.9735 - val_loss: 0.4696 - val_accuracy: 0.9167\n",
            "Epoch 43/50\n",
            "338/338 [==============================] - 9s 27ms/step - loss: 0.1042 - accuracy: 0.9669 - val_loss: 0.6216 - val_accuracy: 0.9242\n",
            "Epoch 44/50\n",
            "338/338 [==============================] - 8s 24ms/step - loss: 0.1095 - accuracy: 0.9653 - val_loss: 0.4446 - val_accuracy: 0.9217\n",
            "Epoch 45/50\n",
            "338/338 [==============================] - 10s 29ms/step - loss: 0.0857 - accuracy: 0.9714 - val_loss: 0.5265 - val_accuracy: 0.9167\n",
            "Epoch 46/50\n",
            "338/338 [==============================] - 9s 27ms/step - loss: 0.0939 - accuracy: 0.9704 - val_loss: 0.5956 - val_accuracy: 0.9083\n",
            "Epoch 47/50\n",
            "338/338 [==============================] - 8s 24ms/step - loss: 0.0833 - accuracy: 0.9744 - val_loss: 0.5587 - val_accuracy: 0.9192\n",
            "Epoch 48/50\n",
            "338/338 [==============================] - 10s 28ms/step - loss: 0.0843 - accuracy: 0.9738 - val_loss: 0.6116 - val_accuracy: 0.8967\n",
            "Epoch 49/50\n",
            "338/338 [==============================] - 10s 29ms/step - loss: 0.1163 - accuracy: 0.9659 - val_loss: 0.4676 - val_accuracy: 0.9242\n",
            "Epoch 50/50\n",
            "338/338 [==============================] - 8s 24ms/step - loss: 0.0927 - accuracy: 0.9713 - val_loss: 0.5276 - val_accuracy: 0.9050\n"
          ]
        }
      ]
    },
    {
      "cell_type": "code",
      "source": [
        "classifier.evaluate(test_set)"
      ],
      "metadata": {
        "colab": {
          "base_uri": "https://localhost:8080/"
        },
        "id": "QIYbgd7D8sL-",
        "outputId": "b7942db9-8888-4029-af83-3d7261e6e9a5"
      },
      "execution_count": 18,
      "outputs": [
        {
          "output_type": "stream",
          "name": "stdout",
          "text": [
            "94/94 [==============================] - 1s 15ms/step - loss: 0.5188 - accuracy: 0.9113\n"
          ]
        },
        {
          "output_type": "execute_result",
          "data": {
            "text/plain": [
              "[0.5187948942184448, 0.9113333225250244]"
            ]
          },
          "metadata": {},
          "execution_count": 18
        }
      ]
    },
    {
      "cell_type": "code",
      "source": [
        "from matplotlib import pyplot as plt\n",
        "plt.plot(history.history['accuracy'])\n",
        "plt.plot(history.history['val_accuracy'])\n",
        "plt.title('Training Accuracy vs Validation Accuracy')\n",
        "plt.ylabel('accuracy')\n",
        "plt.xlabel('epoch')\n",
        "plt.legend(['training', 'validation'], loc='lower right')\n",
        "plt.show()"
      ],
      "metadata": {
        "id": "p18sR7Xj-4l9",
        "colab": {
          "base_uri": "https://localhost:8080/",
          "height": 472
        },
        "outputId": "910aeaf3-3694-42f2-a61a-139981bbc07a"
      },
      "execution_count": 19,
      "outputs": [
        {
          "output_type": "display_data",
          "data": {
            "text/plain": [
              "<Figure size 640x480 with 1 Axes>"
            ],
            "image/png": "[encoded data removed]"
          },
          "metadata": {}
        }
      ]
    },
    {
      "cell_type": "code",
      "source": [
        "plt.plot(history.history['loss'])\n",
        "plt.plot(history.history['val_loss'])\n",
        "plt.title('Training Loss vs Validation Loss')\n",
        "plt.ylabel('loss')\n",
        "plt.xlabel('epochs')\n",
        "plt.legend(['training', 'validation'], loc='upper right')\n",
        "plt.show()"
      ],
      "metadata": {
        "colab": {
          "base_uri": "https://localhost:8080/",
          "height": 472
        },
        "id": "ubvFQ5bVlp4T",
        "outputId": "3e683710-07f5-4fdd-eb73-bef27b6b2c23"
      },
      "execution_count": 20,
      "outputs": [
        {
          "output_type": "display_data",
          "data": {
            "text/plain": [
              "<Figure size 640x480 with 1 Axes>"
            ],
            "image/png": "[encoded data removed]"
          },
          "metadata": {}
        }
      ]
    }
  ]
}
