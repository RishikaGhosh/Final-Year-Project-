{
  "nbformat": 4,
  "nbformat_minor": 0,
  "metadata": {
    "colab": {
      "provenance": [],
      "gpuType": "T4"
    },
    "kernelspec": {
      "name": "python3",
      "display_name": "Python 3"
    },
    "language_info": {
      "name": "python"
    },
    "accelerator": "GPU",
    "gpuClass": "standard"
  },
  "cells": [
    {
      "cell_type": "code",
      "execution_count": null,
      "metadata": {
        "id": "FwtFvYBL0qTQ",
        "colab": {
          "base_uri": "https://localhost:8080/"
        },
        "outputId": "b05e83a9-39e7-4d6e-bd0b-9714b5c2d741"
      },
      "outputs": [
        {
          "output_type": "stream",
          "name": "stdout",
          "text": [
            "Mounted at /content/drive\n"
          ]
        }
      ],
      "source": [
        "from google.colab import drive\n",
        "drive.mount('/content/drive')"
      ]
    },
    {
      "cell_type": "code",
      "source": [
        "!unzip drive/MyDrive/Dataset.zip> /dev/null"
      ],
      "metadata": {
        "id": "sT5DF5jz4MeV"
      },
      "execution_count": null,
      "outputs": []
    },
    {
      "cell_type": "code",
      "source": [
        "pip install tensorflow-addons"
      ],
      "metadata": {
        "colab": {
          "base_uri": "https://localhost:8080/"
        },
        "id": "noc0vjCn4M-X",
        "outputId": "3709141c-d50d-4497-9466-d7e13c96b607"
      },
      "execution_count": null,
      "outputs": [
        {
          "output_type": "stream",
          "name": "stdout",
          "text": [
            "Looking in indexes: https://pypi.org/simple, https://us-python.pkg.dev/colab-wheels/public/simple/\n",
            "Collecting tensorflow-addons\n",
            "  Downloading tensorflow_addons-0.20.0-cp310-cp310-manylinux_2_17_x86_64.manylinux2014_x86_64.whl (591 kB)\n",
            "\u001b[2K     \u001b[90m━━━━━━━━━━━━━━━━━━━━━━━━━━━━━━━━━━━━━━\u001b[0m \u001b[32m591.0/591.0 kB\u001b[0m \u001b[31m44.3 MB/s\u001b[0m eta \u001b[36m0:00:00\u001b[0m\n",
            "\u001b[?25hRequirement already satisfied: packaging in /usr/local/lib/python3.10/dist-packages (from tensorflow-addons) (23.1)\n",
            "Collecting typeguard<3.0.0,>=2.7 (from tensorflow-addons)\n",
            "  Downloading typeguard-2.13.3-py3-none-any.whl (17 kB)\n",
            "Installing collected packages: typeguard, tensorflow-addons\n",
            "Successfully installed tensorflow-addons-0.20.0 typeguard-2.13.3\n"
          ]
        }
      ]
    },
    {
      "cell_type": "code",
      "source": [
        "!pip install tensorflow-addons --upgrade"
      ],
      "metadata": {
        "colab": {
          "base_uri": "https://localhost:8080/"
        },
        "id": "Tb-t3srS4NW4",
        "outputId": "ed587337-41e5-4a0f-d51e-b3b62d5e890d"
      },
      "execution_count": null,
      "outputs": [
        {
          "output_type": "stream",
          "name": "stdout",
          "text": [
            "Looking in indexes: https://pypi.org/simple, https://us-python.pkg.dev/colab-wheels/public/simple/\n",
            "Requirement already satisfied: tensorflow-addons in /usr/local/lib/python3.10/dist-packages (0.20.0)\n",
            "Requirement already satisfied: packaging in /usr/local/lib/python3.10/dist-packages (from tensorflow-addons) (23.1)\n",
            "Requirement already satisfied: typeguard<3.0.0,>=2.7 in /usr/local/lib/python3.10/dist-packages (from tensorflow-addons) (2.13.3)\n"
          ]
        }
      ]
    },
    {
      "cell_type": "code",
      "source": [
        "from keras.models import Sequential\n",
        "from keras.layers import Conv2D, MaxPooling2D, Flatten, Dense, Dropout\n",
        "import tensorflow as tf\n",
        "from tensorflow.keras.callbacks import EarlyStopping\n",
        "from tensorflow.keras.optimizers import Adam\n",
        "from sklearn.pipeline import Pipeline\n",
        "from sklearn.svm import SVC\n",
        "from sklearn.decomposition import PCA\n",
        "import os\n",
        "import cv2\n",
        "from PIL import ImageFile,Image\n",
        "import numpy as np\n",
        "from tensorflow.keras.models import Sequential\n",
        "from tensorflow.keras.layers import Dense, BatchNormalization, Conv2D, MaxPooling2D"
      ],
      "metadata": {
        "id": "HdY146nC4Nn0"
      },
      "execution_count": null,
      "outputs": []
    },
    {
      "cell_type": "code",
      "source": [
        "train_folder = \"Dataset/Train\" \n",
        "test_folder = \"Dataset/Test\"\n",
        "dimensions = (28, 28)"
      ],
      "metadata": {
        "id": "slZfXeCq4N4B"
      },
      "execution_count": null,
      "outputs": []
    },
    {
      "cell_type": "code",
      "source": [
        "train_folder = \"Dataset/main/train\" \n",
        "test_folder = \"Dataset/main/val\"\n",
        "dimensions = (28, 28)"
      ],
      "metadata": {
        "id": "FpZBQXnQ4_C8"
      },
      "execution_count": null,
      "outputs": []
    },
    {
      "cell_type": "code",
      "source": [],
      "metadata": {
        "id": "aSfh1sxk4_jk"
      },
      "execution_count": null,
      "outputs": []
    },
    {
      "cell_type": "code",
      "source": [
        "def process_images(folder):\n",
        "\n",
        "    classes = [os.path.join(folder, d) for d in sorted(os.listdir(folder))]  # get list of all sub-folders in folder\n",
        "    img_cnt = 0\n",
        "    i=0\n",
        "    for class_x in classes:\n",
        "        i=i+1\n",
        "        if os.path.isdir(class_x):\n",
        "\n",
        "            # get paths to all the images in this folder\n",
        "            images = [os.path.join(class_x, i) for i in sorted(os.listdir(class_x)) if i != '.DS_Store']\n",
        "            print(len(images))\n",
        "            if folder == \"Dataset/Test\" and i==1:\n",
        "                images = images[:-1]\n",
        "\n",
        "            for image in images:\n",
        "\n",
        "                img_cnt = img_cnt + 1\n",
        "\n",
        "                if(img_cnt % 1000 == 0):                # show progress\n",
        "                    print(\"Processed %s images\" % str(img_cnt))\n",
        "\n",
        "                im = Image.open(image)\n",
        "                print(image)\n",
        "                im = im.resize(dimensions)   # resize image according to dimensions set\n",
        "\n",
        "                im = im.convert('L')\n",
        "\n",
        "                image_array = np.array(im)\n",
        "                otsu_threshold, image_result = cv2.threshold(image_array, 0, 255, cv2.THRESH_BINARY_INV+cv2.THRESH_OTSU)\n",
        "                im = Image.fromarray(image_result)\n",
        "\n",
        "                im.save(image)\n",
        "    print(\"Finished processing images, images found = \")\n",
        "    print(img_cnt)\n",
        "process_images(train_folder)\n",
        "process_images(test_folder)"
      ],
      "metadata": {
        "id": "Pa0eoUl14OJk"
      },
      "execution_count": null,
      "outputs": []
    },
    {
      "cell_type": "code",
      "source": [
        "classifier = Sequential()\n",
        "\n",
        "classifier.add(Conv2D(filters = 32, kernel_size = (3, 3), strides = (1,1), padding = \"same\", input_shape = (28, 28, 1)))\n",
        "classifier.add(tf.keras.layers.LeakyReLU(alpha=0.1))\n",
        "classifier.add(MaxPooling2D(pool_size = (2, 2), padding = \"valid\"))\n",
        "# classifier.add(Dropout(.5))\n",
        "\n",
        "classifier.add(Conv2D(filters = 64, kernel_size = (3, 3), strides = (1,1), padding = \"same\"))\n",
        "classifier.add(tf.keras.layers.LeakyReLU(alpha=0.1))\n",
        "classifier.add(MaxPooling2D(pool_size = (2, 2), padding = \"valid\"))\n",
        "# classifier.add(Dropout(.5))\n",
        "\n",
        "classifier.add(Conv2D(filters = 128, kernel_size = (3, 3), strides = (1,1), padding = \"same\"))\n",
        "classifier.add(tf.keras.layers.LeakyReLU(alpha=0.1))\n",
        "classifier.add(BatchNormalization())\n",
        "classifier.add(MaxPooling2D(pool_size = (2, 2), padding = \"valid\"))\n",
        "classifier.add(Dropout(.2))\n",
        "\n",
        "classifier.add(Flatten())\n",
        "\n",
        "classifier.add(Dense(units = 128))\n",
        "classifier.add(tf.keras.layers.LeakyReLU(alpha=0.1))\n",
        "classifier.add(Dropout(.2))\n",
        "\n",
        "classifier.add(Dense(units = 64))\n",
        "classifier.add(tf.keras.layers.LeakyReLU(alpha=0.1))\n",
        "classifier.add(Dropout(.2))\n",
        "\n",
        "classifier.add(Dense(units = 50, activation = 'softmax'))\n",
        "\n",
        "opt=tf.keras.optimizers.Adadelta(learning_rate=0.1, rho=0.95)              \n",
        "classifier.compile(optimizer = opt, loss = 'categorical_crossentropy', metrics = ['accuracy'])"
      ],
      "metadata": {
        "id": "XmmwsOWg5V3R"
      },
      "execution_count": null,
      "outputs": []
    },
    {
      "cell_type": "code",
      "source": [
        "classifier.summary()"
      ],
      "metadata": {
        "colab": {
          "base_uri": "https://localhost:8080/"
        },
        "id": "pak_O3X_5WIo",
        "outputId": "c8eb1730-24fd-40b5-db65-e99c2f3def85"
      },
      "execution_count": null,
      "outputs": [
        {
          "output_type": "stream",
          "name": "stdout",
          "text": [
            "Model: \"sequential_2\"\n",
            "_________________________________________________________________\n",
            " Layer (type)                Output Shape              Param #   \n",
            "=================================================================\n",
            " conv2d_6 (Conv2D)           (None, 28, 28, 32)        320       \n",
            "                                                                 \n",
            " leaky_re_lu_10 (LeakyReLU)  (None, 28, 28, 32)        0         \n",
            "                                                                 \n",
            " max_pooling2d_6 (MaxPooling  (None, 14, 14, 32)       0         \n",
            " 2D)                                                             \n",
            "                                                                 \n",
            " conv2d_7 (Conv2D)           (None, 14, 14, 64)        18496     \n",
            "                                                                 \n",
            " leaky_re_lu_11 (LeakyReLU)  (None, 14, 14, 64)        0         \n",
            "                                                                 \n",
            " max_pooling2d_7 (MaxPooling  (None, 7, 7, 64)         0         \n",
            " 2D)                                                             \n",
            "                                                                 \n",
            " conv2d_8 (Conv2D)           (None, 7, 7, 128)         73856     \n",
            "                                                                 \n",
            " leaky_re_lu_12 (LeakyReLU)  (None, 7, 7, 128)         0         \n",
            "                                                                 \n",
            " batch_normalization_1 (Batc  (None, 7, 7, 128)        512       \n",
            " hNormalization)                                                 \n",
            "                                                                 \n",
            " max_pooling2d_8 (MaxPooling  (None, 3, 3, 128)        0         \n",
            " 2D)                                                             \n",
            "                                                                 \n",
            " dropout_4 (Dropout)         (None, 3, 3, 128)         0         \n",
            "                                                                 \n",
            " flatten_2 (Flatten)         (None, 1152)              0         \n",
            "                                                                 \n",
            " dense_6 (Dense)             (None, 128)               147584    \n",
            "                                                                 \n",
            " leaky_re_lu_13 (LeakyReLU)  (None, 128)               0         \n",
            "                                                                 \n",
            " dropout_5 (Dropout)         (None, 128)               0         \n",
            "                                                                 \n",
            " dense_7 (Dense)             (None, 64)                8256      \n",
            "                                                                 \n",
            " leaky_re_lu_14 (LeakyReLU)  (None, 64)                0         \n",
            "                                                                 \n",
            " dropout_6 (Dropout)         (None, 64)                0         \n",
            "                                                                 \n",
            " dense_8 (Dense)             (None, 50)                3250      \n",
            "                                                                 \n",
            "=================================================================\n",
            "Total params: 252,274\n",
            "Trainable params: 252,018\n",
            "Non-trainable params: 256\n",
            "_________________________________________________________________\n"
          ]
        }
      ]
    },
    {
      "cell_type": "code",
      "source": [
        "train_folder = \"/content/Dataset/main/train\"\n",
        "val_folder = \"/content/Dataset/main/val\"\n",
        "test_folder = \"/content/Dataset/Test\""
      ],
      "metadata": {
        "id": "OqkirV7N5WXW"
      },
      "execution_count": null,
      "outputs": []
    },
    {
      "cell_type": "code",
      "source": [
        "from keras.preprocessing.image import ImageDataGenerator\n",
        "from PIL import Image"
      ],
      "metadata": {
        "id": "y-A4_iwy58W3"
      },
      "execution_count": null,
      "outputs": []
    },
    {
      "cell_type": "code",
      "source": [
        "Image.LOAD_TRUNCATED_IMAGES = True\n",
        "\n",
        "\n",
        "train_datagen = ImageDataGenerator(shear_range = .2, rotation_range = 25)\n",
        "val_datagen = ImageDataGenerator()\n",
        "test_datagen = ImageDataGenerator()\n",
        "\n",
        "train_set = train_datagen.flow_from_directory(train_folder, target_size = (28, 28), \n",
        "                                                 batch_size = 32, class_mode = 'categorical',color_mode=\"grayscale\")\n",
        "val_set = val_datagen.flow_from_directory(val_folder, target_size = (28, 28), \n",
        "                                                 batch_size = 32, class_mode = 'categorical',color_mode=\"grayscale\")\n",
        "test_set = test_datagen.flow_from_directory(test_folder, target_size = (28, 28), \n",
        "                                                 batch_size = 32, class_mode = 'categorical',color_mode=\"grayscale\")"
      ],
      "metadata": {
        "colab": {
          "base_uri": "https://localhost:8080/"
        },
        "id": "DuJRwskj5WkB",
        "outputId": "e1c49bd5-68e6-4332-8af7-bbea9570dd39"
      },
      "execution_count": null,
      "outputs": [
        {
          "output_type": "stream",
          "name": "stdout",
          "text": [
            "Found 10800 images belonging to 50 classes.\n",
            "Found 1200 images belonging to 50 classes.\n",
            "Found 3000 images belonging to 50 classes.\n"
          ]
        }
      ]
    },
    {
      "cell_type": "code",
      "source": [
        "history=classifier.fit(train_set, steps_per_epoch = len(train_set), epochs = 50,\n",
        "                        validation_data = val_set, validation_steps = len(val_set))\n",
        "classifier.save_weights('train_weights1.h5')"
      ],
      "metadata": {
        "colab": {
          "base_uri": "https://localhost:8080/"
        },
        "id": "eNJ2z1_D5Wwb",
        "outputId": "892aba74-ed0a-4ad1-e1de-62cab053fade"
      },
      "execution_count": null,
      "outputs": [
        {
          "output_type": "stream",
          "name": "stdout",
          "text": [
            "Epoch 1/50\n",
            "338/338 [==============================] - 12s 30ms/step - loss: 3.8262 - accuracy: 0.0639 - val_loss: 3.3069 - val_accuracy: 0.1792\n",
            "Epoch 2/50\n",
            "338/338 [==============================] - 9s 26ms/step - loss: 3.2913 - accuracy: 0.1603 - val_loss: 2.5901 - val_accuracy: 0.3358\n",
            "Epoch 3/50\n",
            "338/338 [==============================] - 10s 30ms/step - loss: 2.8225 - accuracy: 0.2538 - val_loss: 1.9395 - val_accuracy: 0.5258\n",
            "Epoch 4/50\n",
            "338/338 [==============================] - 11s 31ms/step - loss: 2.4118 - accuracy: 0.3407 - val_loss: 1.5024 - val_accuracy: 0.6117\n",
            "Epoch 5/50\n",
            "338/338 [==============================] - 10s 29ms/step - loss: 2.1002 - accuracy: 0.4097 - val_loss: 1.2569 - val_accuracy: 0.6583\n",
            "Epoch 6/50\n",
            "338/338 [==============================] - 10s 30ms/step - loss: 1.8872 - accuracy: 0.4605 - val_loss: 1.1182 - val_accuracy: 0.6875\n",
            "Epoch 7/50\n",
            "338/338 [==============================] - 10s 28ms/step - loss: 1.6765 - accuracy: 0.5198 - val_loss: 0.9250 - val_accuracy: 0.7483\n",
            "Epoch 8/50\n",
            "338/338 [==============================] - 9s 28ms/step - loss: 1.5492 - accuracy: 0.5502 - val_loss: 0.8824 - val_accuracy: 0.7567\n",
            "Epoch 9/50\n",
            "338/338 [==============================] - 10s 30ms/step - loss: 1.4543 - accuracy: 0.5760 - val_loss: 0.8283 - val_accuracy: 0.7600\n",
            "Epoch 10/50\n",
            "338/338 [==============================] - 9s 28ms/step - loss: 1.3328 - accuracy: 0.6047 - val_loss: 0.7579 - val_accuracy: 0.7908\n",
            "Epoch 11/50\n",
            "338/338 [==============================] - 9s 26ms/step - loss: 1.2605 - accuracy: 0.6226 - val_loss: 0.7175 - val_accuracy: 0.7917\n",
            "Epoch 12/50\n",
            "338/338 [==============================] - 10s 30ms/step - loss: 1.1759 - accuracy: 0.6569 - val_loss: 0.6377 - val_accuracy: 0.8167\n",
            "Epoch 13/50\n",
            "338/338 [==============================] - 11s 31ms/step - loss: 1.1320 - accuracy: 0.6659 - val_loss: 0.5991 - val_accuracy: 0.8283\n",
            "Epoch 14/50\n",
            "338/338 [==============================] - 10s 30ms/step - loss: 1.0586 - accuracy: 0.6894 - val_loss: 0.5746 - val_accuracy: 0.8425\n",
            "Epoch 15/50\n",
            "338/338 [==============================] - 10s 30ms/step - loss: 0.9882 - accuracy: 0.7093 - val_loss: 0.5490 - val_accuracy: 0.8475\n",
            "Epoch 16/50\n",
            "338/338 [==============================] - 11s 34ms/step - loss: 0.9607 - accuracy: 0.7083 - val_loss: 0.5072 - val_accuracy: 0.8675\n",
            "Epoch 17/50\n",
            "338/338 [==============================] - 10s 30ms/step - loss: 0.9223 - accuracy: 0.7217 - val_loss: 0.4762 - val_accuracy: 0.8633\n",
            "Epoch 18/50\n",
            "338/338 [==============================] - 10s 30ms/step - loss: 0.8787 - accuracy: 0.7450 - val_loss: 0.4909 - val_accuracy: 0.8608\n",
            "Epoch 19/50\n",
            "338/338 [==============================] - 9s 25ms/step - loss: 0.8303 - accuracy: 0.7515 - val_loss: 0.4399 - val_accuracy: 0.8792\n",
            "Epoch 20/50\n",
            "338/338 [==============================] - 10s 29ms/step - loss: 0.8206 - accuracy: 0.7517 - val_loss: 0.4468 - val_accuracy: 0.8808\n",
            "Epoch 21/50\n",
            "338/338 [==============================] - 10s 30ms/step - loss: 0.7805 - accuracy: 0.7639 - val_loss: 0.4307 - val_accuracy: 0.8775\n",
            "Epoch 22/50\n",
            "338/338 [==============================] - 9s 27ms/step - loss: 0.7569 - accuracy: 0.7695 - val_loss: 0.4235 - val_accuracy: 0.8825\n",
            "Epoch 23/50\n",
            "338/338 [==============================] - 10s 28ms/step - loss: 0.7134 - accuracy: 0.7851 - val_loss: 0.4213 - val_accuracy: 0.8850\n",
            "Epoch 24/50\n",
            "338/338 [==============================] - 10s 30ms/step - loss: 0.7072 - accuracy: 0.7879 - val_loss: 0.4126 - val_accuracy: 0.8850\n",
            "Epoch 25/50\n",
            "338/338 [==============================] - 8s 25ms/step - loss: 0.6701 - accuracy: 0.7950 - val_loss: 0.3869 - val_accuracy: 0.8892\n",
            "Epoch 26/50\n",
            "338/338 [==============================] - 10s 30ms/step - loss: 0.6459 - accuracy: 0.8030 - val_loss: 0.3812 - val_accuracy: 0.8942\n",
            "Epoch 27/50\n",
            "338/338 [==============================] - 10s 30ms/step - loss: 0.6444 - accuracy: 0.8016 - val_loss: 0.3784 - val_accuracy: 0.8958\n",
            "Epoch 28/50\n",
            "338/338 [==============================] - 8s 25ms/step - loss: 0.6166 - accuracy: 0.8107 - val_loss: 0.3560 - val_accuracy: 0.9008\n",
            "Epoch 29/50\n",
            "338/338 [==============================] - 9s 28ms/step - loss: 0.5931 - accuracy: 0.8154 - val_loss: 0.3918 - val_accuracy: 0.8875\n",
            "Epoch 30/50\n",
            "338/338 [==============================] - 11s 32ms/step - loss: 0.5754 - accuracy: 0.8244 - val_loss: 0.3288 - val_accuracy: 0.9083\n",
            "Epoch 31/50\n",
            "338/338 [==============================] - 11s 31ms/step - loss: 0.5652 - accuracy: 0.8272 - val_loss: 0.3394 - val_accuracy: 0.9075\n",
            "Epoch 32/50\n",
            "338/338 [==============================] - 9s 27ms/step - loss: 0.5406 - accuracy: 0.8350 - val_loss: 0.3360 - val_accuracy: 0.9117\n",
            "Epoch 33/50\n",
            "338/338 [==============================] - 11s 31ms/step - loss: 0.5366 - accuracy: 0.8371 - val_loss: 0.3234 - val_accuracy: 0.9092\n",
            "Epoch 34/50\n",
            "338/338 [==============================] - 9s 28ms/step - loss: 0.5202 - accuracy: 0.8410 - val_loss: 0.3293 - val_accuracy: 0.9075\n",
            "Epoch 35/50\n",
            "338/338 [==============================] - 9s 26ms/step - loss: 0.5070 - accuracy: 0.8423 - val_loss: 0.3730 - val_accuracy: 0.9008\n",
            "Epoch 36/50\n",
            "338/338 [==============================] - 12s 35ms/step - loss: 0.4947 - accuracy: 0.8495 - val_loss: 0.2879 - val_accuracy: 0.9208\n",
            "Epoch 37/50\n",
            "338/338 [==============================] - 10s 31ms/step - loss: 0.4851 - accuracy: 0.8517 - val_loss: 0.2900 - val_accuracy: 0.9167\n",
            "Epoch 38/50\n",
            "338/338 [==============================] - 9s 25ms/step - loss: 0.4721 - accuracy: 0.8513 - val_loss: 0.3386 - val_accuracy: 0.9050\n",
            "Epoch 39/50\n",
            "338/338 [==============================] - 10s 29ms/step - loss: 0.4779 - accuracy: 0.8546 - val_loss: 0.2935 - val_accuracy: 0.9183\n",
            "Epoch 40/50\n",
            "338/338 [==============================] - 10s 30ms/step - loss: 0.4533 - accuracy: 0.8581 - val_loss: 0.2848 - val_accuracy: 0.9158\n",
            "Epoch 41/50\n",
            "338/338 [==============================] - 9s 27ms/step - loss: 0.4526 - accuracy: 0.8574 - val_loss: 0.3094 - val_accuracy: 0.9100\n",
            "Epoch 42/50\n",
            "338/338 [==============================] - 9s 26ms/step - loss: 0.4366 - accuracy: 0.8661 - val_loss: 0.2997 - val_accuracy: 0.9225\n",
            "Epoch 43/50\n",
            "338/338 [==============================] - 10s 29ms/step - loss: 0.4276 - accuracy: 0.8655 - val_loss: 0.2853 - val_accuracy: 0.9158\n",
            "Epoch 44/50\n",
            "338/338 [==============================] - 10s 30ms/step - loss: 0.4140 - accuracy: 0.8694 - val_loss: 0.2734 - val_accuracy: 0.9242\n",
            "Epoch 45/50\n",
            "338/338 [==============================] - 9s 26ms/step - loss: 0.4213 - accuracy: 0.8723 - val_loss: 0.2738 - val_accuracy: 0.9183\n",
            "Epoch 46/50\n",
            "338/338 [==============================] - 10s 30ms/step - loss: 0.4040 - accuracy: 0.8708 - val_loss: 0.2756 - val_accuracy: 0.9225\n",
            "Epoch 47/50\n",
            "338/338 [==============================] - 10s 30ms/step - loss: 0.3869 - accuracy: 0.8774 - val_loss: 0.2753 - val_accuracy: 0.9258\n",
            "Epoch 48/50\n",
            "338/338 [==============================] - 9s 26ms/step - loss: 0.3867 - accuracy: 0.8826 - val_loss: 0.2600 - val_accuracy: 0.9267\n",
            "Epoch 49/50\n",
            "338/338 [==============================] - 10s 30ms/step - loss: 0.3805 - accuracy: 0.8823 - val_loss: 0.2647 - val_accuracy: 0.9300\n",
            "Epoch 50/50\n",
            "338/338 [==============================] - 10s 30ms/step - loss: 0.3735 - accuracy: 0.8858 - val_loss: 0.2664 - val_accuracy: 0.9275\n"
          ]
        }
      ]
    },
    {
      "cell_type": "code",
      "source": [
        "classifier.evaluate(test_set)"
      ],
      "metadata": {
        "colab": {
          "base_uri": "https://localhost:8080/"
        },
        "id": "qPfA1KSq5W8z",
        "outputId": "44fc098e-8cbe-4304-9fb2-220834b596fe"
      },
      "execution_count": null,
      "outputs": [
        {
          "output_type": "stream",
          "name": "stdout",
          "text": [
            "94/94 [==============================] - 1s 15ms/step - loss: 0.2295 - accuracy: 0.9327\n"
          ]
        },
        {
          "output_type": "execute_result",
          "data": {
            "text/plain": [
              "[0.22945450246334076, 0.9326666593551636]"
            ]
          },
          "metadata": {},
          "execution_count": 31
        }
      ]
    },
    {
      "cell_type": "code",
      "source": [
        "classifier.load_weights('train_weights1.h5')\n",
        "history=classifier.fit(train_set, steps_per_epoch = len(train_set), epochs = 30,\n",
        "                        validation_data = val_set, validation_steps = len(val_set))\n",
        "classifier.save_weights('train_weights2.h5')"
      ],
      "metadata": {
        "colab": {
          "base_uri": "https://localhost:8080/"
        },
        "id": "lwQX79jk5XIu",
        "outputId": "15ce0da6-c3cf-403e-8ec6-a2abfe5e2314"
      },
      "execution_count": null,
      "outputs": [
        {
          "output_type": "stream",
          "name": "stdout",
          "text": [
            "Epoch 1/30\n",
            "338/338 [==============================] - 10s 30ms/step - loss: 0.3807 - accuracy: 0.8812 - val_loss: 0.2526 - val_accuracy: 0.9317\n",
            "Epoch 2/30\n",
            "338/338 [==============================] - 8s 25ms/step - loss: 0.3520 - accuracy: 0.8918 - val_loss: 0.2592 - val_accuracy: 0.9283\n",
            "Epoch 3/30\n",
            "338/338 [==============================] - 10s 29ms/step - loss: 0.3690 - accuracy: 0.8866 - val_loss: 0.2579 - val_accuracy: 0.9317\n",
            "Epoch 4/30\n",
            "338/338 [==============================] - 10s 30ms/step - loss: 0.3529 - accuracy: 0.8911 - val_loss: 0.2596 - val_accuracy: 0.9267\n",
            "Epoch 5/30\n",
            "338/338 [==============================] - 9s 28ms/step - loss: 0.3511 - accuracy: 0.8910 - val_loss: 0.2726 - val_accuracy: 0.9233\n",
            "Epoch 6/30\n",
            "338/338 [==============================] - 9s 26ms/step - loss: 0.3341 - accuracy: 0.8978 - val_loss: 0.2370 - val_accuracy: 0.9308\n",
            "Epoch 7/30\n",
            "338/338 [==============================] - 11s 33ms/step - loss: 0.3340 - accuracy: 0.8952 - val_loss: 0.2553 - val_accuracy: 0.9283\n",
            "Epoch 8/30\n",
            "338/338 [==============================] - 9s 27ms/step - loss: 0.3365 - accuracy: 0.8958 - val_loss: 0.2481 - val_accuracy: 0.9317\n",
            "Epoch 9/30\n",
            "338/338 [==============================] - 9s 26ms/step - loss: 0.3175 - accuracy: 0.8957 - val_loss: 0.2529 - val_accuracy: 0.9317\n",
            "Epoch 10/30\n",
            "338/338 [==============================] - 10s 29ms/step - loss: 0.3147 - accuracy: 0.9038 - val_loss: 0.2461 - val_accuracy: 0.9325\n",
            "Epoch 11/30\n",
            "338/338 [==============================] - 10s 30ms/step - loss: 0.3232 - accuracy: 0.8991 - val_loss: 0.2550 - val_accuracy: 0.9333\n",
            "Epoch 12/30\n",
            "338/338 [==============================] - 10s 29ms/step - loss: 0.3131 - accuracy: 0.9013 - val_loss: 0.2401 - val_accuracy: 0.9333\n",
            "Epoch 13/30\n",
            "338/338 [==============================] - 10s 30ms/step - loss: 0.3032 - accuracy: 0.9082 - val_loss: 0.2597 - val_accuracy: 0.9300\n",
            "Epoch 14/30\n",
            "338/338 [==============================] - 9s 26ms/step - loss: 0.3052 - accuracy: 0.9049 - val_loss: 0.2953 - val_accuracy: 0.9217\n",
            "Epoch 15/30\n",
            "338/338 [==============================] - 9s 26ms/step - loss: 0.2947 - accuracy: 0.9063 - val_loss: 0.2435 - val_accuracy: 0.9392\n",
            "Epoch 16/30\n",
            "338/338 [==============================] - 10s 30ms/step - loss: 0.2904 - accuracy: 0.9090 - val_loss: 0.2407 - val_accuracy: 0.9325\n",
            "Epoch 17/30\n",
            "338/338 [==============================] - 10s 31ms/step - loss: 0.2905 - accuracy: 0.9100 - val_loss: 0.2670 - val_accuracy: 0.9292\n",
            "Epoch 18/30\n",
            "338/338 [==============================] - 10s 29ms/step - loss: 0.2822 - accuracy: 0.9112 - val_loss: 0.2486 - val_accuracy: 0.9317\n",
            "Epoch 19/30\n",
            "338/338 [==============================] - 10s 30ms/step - loss: 0.2828 - accuracy: 0.9118 - val_loss: 0.2564 - val_accuracy: 0.9275\n",
            "Epoch 20/30\n",
            "338/338 [==============================] - 9s 26ms/step - loss: 0.2675 - accuracy: 0.9177 - val_loss: 0.2331 - val_accuracy: 0.9317\n",
            "Epoch 21/30\n",
            "338/338 [==============================] - 10s 29ms/step - loss: 0.2739 - accuracy: 0.9165 - val_loss: 0.2431 - val_accuracy: 0.9350\n",
            "Epoch 22/30\n",
            "338/338 [==============================] - 10s 30ms/step - loss: 0.2657 - accuracy: 0.9144 - val_loss: 0.2240 - val_accuracy: 0.9400\n",
            "Epoch 23/30\n",
            "338/338 [==============================] - 8s 25ms/step - loss: 0.2641 - accuracy: 0.9177 - val_loss: 0.2622 - val_accuracy: 0.9333\n",
            "Epoch 24/30\n",
            "338/338 [==============================] - 10s 29ms/step - loss: 0.2543 - accuracy: 0.9194 - val_loss: 0.2299 - val_accuracy: 0.9400\n",
            "Epoch 25/30\n",
            "338/338 [==============================] - 10s 30ms/step - loss: 0.2596 - accuracy: 0.9171 - val_loss: 0.2331 - val_accuracy: 0.9383\n",
            "Epoch 26/30\n",
            "338/338 [==============================] - 9s 28ms/step - loss: 0.2564 - accuracy: 0.9169 - val_loss: 0.2352 - val_accuracy: 0.9342\n",
            "Epoch 27/30\n",
            "338/338 [==============================] - 9s 28ms/step - loss: 0.2559 - accuracy: 0.9183 - val_loss: 0.2258 - val_accuracy: 0.9408\n",
            "Epoch 28/30\n",
            "338/338 [==============================] - 11s 32ms/step - loss: 0.2583 - accuracy: 0.9192 - val_loss: 0.2067 - val_accuracy: 0.9425\n",
            "Epoch 29/30\n",
            "338/338 [==============================] - 10s 30ms/step - loss: 0.2514 - accuracy: 0.9214 - val_loss: 0.2240 - val_accuracy: 0.9342\n",
            "Epoch 30/30\n",
            "338/338 [==============================] - 9s 27ms/step - loss: 0.2357 - accuracy: 0.9230 - val_loss: 0.2254 - val_accuracy: 0.9342\n"
          ]
        }
      ]
    },
    {
      "cell_type": "code",
      "source": [
        "classifier.evaluate(test_set)"
      ],
      "metadata": {
        "colab": {
          "base_uri": "https://localhost:8080/"
        },
        "id": "P5SXo1Nv5XVG",
        "outputId": "0ce33342-f774-48c2-a503-3908fff62ae5"
      },
      "execution_count": null,
      "outputs": [
        {
          "output_type": "stream",
          "name": "stdout",
          "text": [
            "94/94 [==============================] - 1s 15ms/step - loss: 0.2097 - accuracy: 0.9410\n"
          ]
        },
        {
          "output_type": "execute_result",
          "data": {
            "text/plain": [
              "[0.20969729125499725, 0.9409999847412109]"
            ]
          },
          "metadata": {},
          "execution_count": 33
        }
      ]
    },
    {
      "cell_type": "code",
      "source": [
        "classifier.load_weights('train_weights2.h5')\n",
        "history=classifier.fit(train_set, steps_per_epoch = len(train_set), epochs = 30,\n",
        "                        validation_data = val_set, validation_steps = len(val_set))\n",
        "classifier.save_weights('train_weights3.h5')"
      ],
      "metadata": {
        "colab": {
          "base_uri": "https://localhost:8080/"
        },
        "id": "EDEqddTq5XhP",
        "outputId": "70f7d95e-6d60-4816-a34c-05f52722eca1"
      },
      "execution_count": null,
      "outputs": [
        {
          "output_type": "stream",
          "name": "stdout",
          "text": [
            "Epoch 1/30\n",
            "338/338 [==============================] - 10s 30ms/step - loss: 0.2314 - accuracy: 0.9300 - val_loss: 0.2286 - val_accuracy: 0.9333\n",
            "Epoch 2/30\n",
            "338/338 [==============================] - 11s 31ms/step - loss: 0.2396 - accuracy: 0.9205 - val_loss: 0.2239 - val_accuracy: 0.9417\n",
            "Epoch 3/30\n",
            "338/338 [==============================] - 11s 31ms/step - loss: 0.2388 - accuracy: 0.9232 - val_loss: 0.2187 - val_accuracy: 0.9400\n",
            "Epoch 4/30\n",
            "338/338 [==============================] - 11s 31ms/step - loss: 0.2460 - accuracy: 0.9201 - val_loss: 0.2239 - val_accuracy: 0.9367\n",
            "Epoch 5/30\n",
            "338/338 [==============================] - 10s 30ms/step - loss: 0.2248 - accuracy: 0.9288 - val_loss: 0.2390 - val_accuracy: 0.9333\n",
            "Epoch 6/30\n",
            "338/338 [==============================] - 11s 31ms/step - loss: 0.2287 - accuracy: 0.9246 - val_loss: 0.2142 - val_accuracy: 0.9358\n",
            "Epoch 7/30\n",
            "338/338 [==============================] - 10s 29ms/step - loss: 0.2178 - accuracy: 0.9306 - val_loss: 0.2351 - val_accuracy: 0.9367\n",
            "Epoch 8/30\n",
            "338/338 [==============================] - 9s 27ms/step - loss: 0.2237 - accuracy: 0.9266 - val_loss: 0.2105 - val_accuracy: 0.9433\n",
            "Epoch 9/30\n",
            "338/338 [==============================] - 10s 30ms/step - loss: 0.2205 - accuracy: 0.9287 - val_loss: 0.2176 - val_accuracy: 0.9408\n",
            "Epoch 10/30\n",
            "338/338 [==============================] - 10s 31ms/step - loss: 0.2214 - accuracy: 0.9263 - val_loss: 0.2252 - val_accuracy: 0.9383\n",
            "Epoch 11/30\n",
            "338/338 [==============================] - 10s 29ms/step - loss: 0.2134 - accuracy: 0.9322 - val_loss: 0.2103 - val_accuracy: 0.9383\n",
            "Epoch 12/30\n",
            "338/338 [==============================] - 10s 31ms/step - loss: 0.2188 - accuracy: 0.9314 - val_loss: 0.2281 - val_accuracy: 0.9367\n",
            "Epoch 13/30\n",
            "338/338 [==============================] - 10s 30ms/step - loss: 0.2092 - accuracy: 0.9336 - val_loss: 0.2166 - val_accuracy: 0.9433\n",
            "Epoch 14/30\n",
            "338/338 [==============================] - 9s 26ms/step - loss: 0.2076 - accuracy: 0.9331 - val_loss: 0.2170 - val_accuracy: 0.9400\n",
            "Epoch 15/30\n",
            "338/338 [==============================] - 11s 32ms/step - loss: 0.2027 - accuracy: 0.9371 - val_loss: 0.1999 - val_accuracy: 0.9417\n",
            "Epoch 16/30\n",
            "338/338 [==============================] - 11s 32ms/step - loss: 0.2073 - accuracy: 0.9341 - val_loss: 0.1945 - val_accuracy: 0.9433\n",
            "Epoch 17/30\n",
            "338/338 [==============================] - 11s 32ms/step - loss: 0.1978 - accuracy: 0.9365 - val_loss: 0.2151 - val_accuracy: 0.9425\n",
            "Epoch 18/30\n",
            "338/338 [==============================] - 11s 32ms/step - loss: 0.1927 - accuracy: 0.9358 - val_loss: 0.2139 - val_accuracy: 0.9442\n",
            "Epoch 19/30\n",
            "338/338 [==============================] - 9s 26ms/step - loss: 0.2017 - accuracy: 0.9338 - val_loss: 0.2136 - val_accuracy: 0.9442\n",
            "Epoch 20/30\n",
            "338/338 [==============================] - 10s 31ms/step - loss: 0.1955 - accuracy: 0.9369 - val_loss: 0.2199 - val_accuracy: 0.9433\n",
            "Epoch 21/30\n",
            "338/338 [==============================] - 11s 31ms/step - loss: 0.1976 - accuracy: 0.9344 - val_loss: 0.2108 - val_accuracy: 0.9417\n",
            "Epoch 22/30\n",
            "338/338 [==============================] - 9s 28ms/step - loss: 0.1851 - accuracy: 0.9413 - val_loss: 0.2224 - val_accuracy: 0.9417\n",
            "Epoch 23/30\n",
            "338/338 [==============================] - 11s 32ms/step - loss: 0.1790 - accuracy: 0.9406 - val_loss: 0.2281 - val_accuracy: 0.9408\n",
            "Epoch 24/30\n",
            "338/338 [==============================] - 11s 31ms/step - loss: 0.1894 - accuracy: 0.9371 - val_loss: 0.2263 - val_accuracy: 0.9417\n",
            "Epoch 25/30\n",
            "338/338 [==============================] - 10s 28ms/step - loss: 0.1944 - accuracy: 0.9382 - val_loss: 0.2128 - val_accuracy: 0.9467\n",
            "Epoch 26/30\n",
            "338/338 [==============================] - 10s 30ms/step - loss: 0.1888 - accuracy: 0.9379 - val_loss: 0.2305 - val_accuracy: 0.9433\n",
            "Epoch 27/30\n",
            "338/338 [==============================] - 11s 31ms/step - loss: 0.1848 - accuracy: 0.9384 - val_loss: 0.2090 - val_accuracy: 0.9433\n",
            "Epoch 28/30\n",
            "338/338 [==============================] - 9s 27ms/step - loss: 0.1782 - accuracy: 0.9443 - val_loss: 0.2045 - val_accuracy: 0.9408\n",
            "Epoch 29/30\n",
            "338/338 [==============================] - 11s 32ms/step - loss: 0.1822 - accuracy: 0.9433 - val_loss: 0.2055 - val_accuracy: 0.9417\n",
            "Epoch 30/30\n",
            "338/338 [==============================] - 11s 31ms/step - loss: 0.1825 - accuracy: 0.9406 - val_loss: 0.1960 - val_accuracy: 0.9425\n"
          ]
        }
      ]
    },
    {
      "cell_type": "code",
      "source": [
        "classifier.evaluate(test_set)"
      ],
      "metadata": {
        "colab": {
          "base_uri": "https://localhost:8080/"
        },
        "id": "ZS9ozdI95XtI",
        "outputId": "dc70dcdb-21f7-470a-d3b4-aec4852cf85d"
      },
      "execution_count": null,
      "outputs": [
        {
          "output_type": "stream",
          "name": "stdout",
          "text": [
            "94/94 [==============================] - 2s 18ms/step - loss: 0.1892 - accuracy: 0.9493\n"
          ]
        },
        {
          "output_type": "execute_result",
          "data": {
            "text/plain": [
              "[0.18922223150730133, 0.9493333101272583]"
            ]
          },
          "metadata": {},
          "execution_count": 35
        }
      ]
    },
    {
      "cell_type": "code",
      "source": [
        "classifier.load_weights('train_weights3.h5')\n",
        "history=classifier.fit(train_set, steps_per_epoch = len(train_set), epochs = 10,\n",
        "                        validation_data = val_set, validation_steps = len(val_set))\n",
        "classifier.save_weights('train_weights4.h5')"
      ],
      "metadata": {
        "colab": {
          "base_uri": "https://localhost:8080/"
        },
        "id": "6hs9wni95X5r",
        "outputId": "a9763954-67fc-44e9-b642-c15e92e3b0cb"
      },
      "execution_count": null,
      "outputs": [
        {
          "output_type": "stream",
          "name": "stdout",
          "text": [
            "Epoch 1/10\n",
            "338/338 [==============================] - 11s 33ms/step - loss: 0.1794 - accuracy: 0.9414 - val_loss: 0.1992 - val_accuracy: 0.9425\n",
            "Epoch 2/10\n",
            "338/338 [==============================] - 11s 32ms/step - loss: 0.1784 - accuracy: 0.9395 - val_loss: 0.2137 - val_accuracy: 0.9417\n",
            "Epoch 3/10\n",
            "338/338 [==============================] - 11s 31ms/step - loss: 0.1832 - accuracy: 0.9405 - val_loss: 0.2015 - val_accuracy: 0.9442\n",
            "Epoch 4/10\n",
            "338/338 [==============================] - 11s 33ms/step - loss: 0.1640 - accuracy: 0.9452 - val_loss: 0.2109 - val_accuracy: 0.9442\n",
            "Epoch 5/10\n",
            "338/338 [==============================] - 11s 31ms/step - loss: 0.1717 - accuracy: 0.9450 - val_loss: 0.2112 - val_accuracy: 0.9442\n",
            "Epoch 6/10\n",
            "338/338 [==============================] - 11s 32ms/step - loss: 0.1670 - accuracy: 0.9459 - val_loss: 0.2088 - val_accuracy: 0.9450\n",
            "Epoch 7/10\n",
            "338/338 [==============================] - 10s 29ms/step - loss: 0.1719 - accuracy: 0.9433 - val_loss: 0.1966 - val_accuracy: 0.9483\n",
            "Epoch 8/10\n",
            "338/338 [==============================] - 10s 29ms/step - loss: 0.1713 - accuracy: 0.9439 - val_loss: 0.1988 - val_accuracy: 0.9492\n",
            "Epoch 9/10\n",
            "338/338 [==============================] - 11s 32ms/step - loss: 0.1735 - accuracy: 0.9440 - val_loss: 0.2000 - val_accuracy: 0.9467\n",
            "Epoch 10/10\n",
            "338/338 [==============================] - 11s 32ms/step - loss: 0.1703 - accuracy: 0.9468 - val_loss: 0.1892 - val_accuracy: 0.9483\n"
          ]
        }
      ]
    },
    {
      "cell_type": "code",
      "source": [
        "classifier.evaluate(test_set)"
      ],
      "metadata": {
        "colab": {
          "base_uri": "https://localhost:8080/"
        },
        "id": "DgX1_tTI5YF0",
        "outputId": "09a55021-4c2a-407d-f363-4246f922c9be"
      },
      "execution_count": null,
      "outputs": [
        {
          "output_type": "stream",
          "name": "stdout",
          "text": [
            "94/94 [==============================] - 2s 17ms/step - loss: 0.1743 - accuracy: 0.9537\n"
          ]
        },
        {
          "output_type": "execute_result",
          "data": {
            "text/plain": [
              "[0.17430183291435242, 0.9536666870117188]"
            ]
          },
          "metadata": {},
          "execution_count": 37
        }
      ]
    },
    {
      "cell_type": "code",
      "source": [
        "classifier.load_weights('train_weights4.h5')\n",
        "history=classifier.fit(train_set, steps_per_epoch = len(train_set), epochs = 10,\n",
        "                        validation_data = val_set, validation_steps = len(val_set))\n",
        "classifier.save_weights('train_weights5.h5')"
      ],
      "metadata": {
        "colab": {
          "base_uri": "https://localhost:8080/"
        },
        "id": "f6F8LywEGpCn",
        "outputId": "d5183b1b-5ed1-42c4-c04d-23adf2519f13"
      },
      "execution_count": null,
      "outputs": [
        {
          "output_type": "stream",
          "name": "stdout",
          "text": [
            "Epoch 1/10\n",
            "338/338 [==============================] - 10s 28ms/step - loss: 0.1646 - accuracy: 0.9474 - val_loss: 0.2040 - val_accuracy: 0.9458\n",
            "Epoch 2/10\n",
            "338/338 [==============================] - 11s 31ms/step - loss: 0.1681 - accuracy: 0.9470 - val_loss: 0.1981 - val_accuracy: 0.9492\n",
            "Epoch 3/10\n",
            "338/338 [==============================] - 11s 32ms/step - loss: 0.1697 - accuracy: 0.9434 - val_loss: 0.2017 - val_accuracy: 0.9458\n",
            "Epoch 4/10\n",
            "338/338 [==============================] - 11s 32ms/step - loss: 0.1497 - accuracy: 0.9544 - val_loss: 0.1982 - val_accuracy: 0.9483\n",
            "Epoch 5/10\n",
            "338/338 [==============================] - 10s 31ms/step - loss: 0.1628 - accuracy: 0.9475 - val_loss: 0.1983 - val_accuracy: 0.9442\n",
            "Epoch 6/10\n",
            "338/338 [==============================] - 10s 29ms/step - loss: 0.1535 - accuracy: 0.9523 - val_loss: 0.2090 - val_accuracy: 0.9467\n",
            "Epoch 7/10\n",
            "338/338 [==============================] - 12s 34ms/step - loss: 0.1643 - accuracy: 0.9480 - val_loss: 0.2116 - val_accuracy: 0.9475\n",
            "Epoch 8/10\n",
            "338/338 [==============================] - 11s 32ms/step - loss: 0.1484 - accuracy: 0.9508 - val_loss: 0.2123 - val_accuracy: 0.9458\n",
            "Epoch 9/10\n",
            "338/338 [==============================] - 11s 32ms/step - loss: 0.1481 - accuracy: 0.9491 - val_loss: 0.2084 - val_accuracy: 0.9500\n",
            "Epoch 10/10\n",
            "338/338 [==============================] - 10s 29ms/step - loss: 0.1537 - accuracy: 0.9486 - val_loss: 0.2063 - val_accuracy: 0.9433\n"
          ]
        }
      ]
    },
    {
      "cell_type": "code",
      "source": [
        "classifier.evaluate(test_set)"
      ],
      "metadata": {
        "colab": {
          "base_uri": "https://localhost:8080/"
        },
        "id": "BqHyKZbCGpfp",
        "outputId": "fb1e53dd-36d6-481e-cbe1-8562f342a9ee"
      },
      "execution_count": null,
      "outputs": [
        {
          "output_type": "stream",
          "name": "stdout",
          "text": [
            "94/94 [==============================] - 2s 18ms/step - loss: 0.1832 - accuracy: 0.9540\n"
          ]
        },
        {
          "output_type": "execute_result",
          "data": {
            "text/plain": [
              "[0.18315258622169495, 0.9539999961853027]"
            ]
          },
          "metadata": {},
          "execution_count": 40
        }
      ]
    },
    {
      "cell_type": "code",
      "source": [],
      "metadata": {
        "id": "VF8EcUl7HtSN"
      },
      "execution_count": null,
      "outputs": []
    },
    {
      "cell_type": "code",
      "source": [],
      "metadata": {
        "id": "3Igu3v2OHtlk"
      },
      "execution_count": null,
      "outputs": []
    }
  ]
}